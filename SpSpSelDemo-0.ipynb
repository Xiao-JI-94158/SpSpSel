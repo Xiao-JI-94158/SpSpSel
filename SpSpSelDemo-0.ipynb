{
 "cells": [
  {
   "cell_type": "code",
   "execution_count": 3,
   "metadata": {},
   "outputs": [],
   "source": [
    "import numpy\n",
    "import scipy\n"
   ]
  },
  {
   "attachments": {},
   "cell_type": "markdown",
   "metadata": {},
   "source": [
    "The first step is to write down the Bloch equation in its matrice representation:\n",
    "\n",
    "$$\n",
    "\\frac{\\mathrm{d}}{\\mathrm{d} t} \\mathbf{M} = \\mathbf{A} \\cdot \\mathbf{M}\n",
    "$$\n",
    "\n",
    "where the magnetization vector reads\n",
    "\n",
    "$$\n",
    "\\mathbf{M} = \n",
    "    \\begin{bmatrix}\n",
    "        M_x \\\\\n",
    "        M_y \\\\\n",
    "        M_z  \n",
    "    \\end{bmatrix}\n",
    "$$\n",
    "and the transition matrix reads\n",
    "$$\n",
    "\\mathbf{A} = \n",
    "    \\begin{bmatrix}\n",
    "        -R_2            & \\Delta\\omega_z    & -\\gamma B_{1,y} \\\\\n",
    "        -\\Delta\\omega_z & -R_2              &  \\gamma B_{1,x} \\\\\n",
    "         \\gamma B_{1,y} & -\\gamma B_{1,x}   & -R_1\n",
    "    \\end{bmatrix}\n",
    "$$\n",
    "\n",
    "\n",
    "In order to add the phenomenological thermalization to the lattice, we have two ways:\n",
    "\n",
    "Either we can add an additional term $\\mathbf{R}$ to the Bloch equation such that:\n",
    "\n",
    "$$\n",
    "\\frac{\\mathrm{d}}{\\mathrm{d} t} \\mathbf{M} = \\mathbf{A} \\cdot \\mathbf{M} + \\mathbf{R}\n",
    "$$\n",
    "\n",
    "Or we can extend the dimension of $\\mathbf{M}$, including the magnetization at thermal equilibrium:\n",
    "\n",
    "\n",
    "$$\n",
    "\\mathbf{M} = \n",
    "    \\begin{bmatrix}\n",
    "        M_x \\\\\n",
    "        M_y \\\\\n",
    "        M_z \\\\\n",
    "        M_{eq}\n",
    "    \\end{bmatrix}\n",
    "$$\n",
    "\n",
    "Consequently, the transiton matrix also expands its dimension:\n",
    "\n",
    "$$\n",
    "\\mathbf{A} = \n",
    "    \\begin{bmatrix}\n",
    "        -R_2            & \\Delta\\omega_z    & -\\gamma B_{1,y} \\\\\n",
    "        -\\Delta\\omega_z & -R_2              &  \\gamma B_{1,x} \\\\\n",
    "         \\gamma B_{1,y} & -\\gamma B_{1,x}   & -R_1\n",
    "    \\end{bmatrix}\n",
    "$$"
   ]
  },
  {
   "cell_type": "code",
   "execution_count": null,
   "metadata": {},
   "outputs": [],
   "source": []
  }
 ],
 "metadata": {
  "kernelspec": {
   "display_name": "base",
   "language": "python",
   "name": "python3"
  },
  "language_info": {
   "codemirror_mode": {
    "name": "ipython",
    "version": 3
   },
   "file_extension": ".py",
   "mimetype": "text/x-python",
   "name": "python",
   "nbconvert_exporter": "python",
   "pygments_lexer": "ipython3",
   "version": "3.9.13"
  },
  "orig_nbformat": 4
 },
 "nbformat": 4,
 "nbformat_minor": 2
}
